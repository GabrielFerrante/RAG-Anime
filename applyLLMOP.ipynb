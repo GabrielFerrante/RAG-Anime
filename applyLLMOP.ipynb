{
 "cells": [
  {
   "cell_type": "code",
   "execution_count": 1,
   "metadata": {},
   "outputs": [],
   "source": [
    "from transformers import AutoTokenizer, AutoModelForCausalLM\n",
    "from langchain.vectorstores import FAISS\n",
    "from langchain.embeddings import HuggingFaceEmbeddings\n",
    "import torch"
   ]
  },
  {
   "cell_type": "code",
   "execution_count": 2,
   "metadata": {},
   "outputs": [
    {
     "data": {
      "application/vnd.jupyter.widget-view+json": {
       "model_id": "b6ec2f3eea7b46b0a525182a0cc64e76",
       "version_major": 2,
       "version_minor": 0
      },
      "text/plain": [
       "Loading checkpoint shards:   0%|          | 0/2 [00:00<?, ?it/s]"
      ]
     },
     "metadata": {},
     "output_type": "display_data"
    },
    {
     "name": "stderr",
     "output_type": "stream",
     "text": [
      "Some parameters are on the meta device because they were offloaded to the cpu.\n",
      "C:\\Users\\Gabriel\\AppData\\Local\\Temp\\ipykernel_6816\\353247676.py:12: LangChainDeprecationWarning: The class `HuggingFaceEmbeddings` was deprecated in LangChain 0.2.2 and will be removed in 1.0. An updated version of the class exists in the :class:`~langchain-huggingface package and should be used instead. To use it run `pip install -U :class:`~langchain-huggingface` and import as `from :class:`~langchain_huggingface import HuggingFaceEmbeddings``.\n",
      "  embeddings = HuggingFaceEmbeddings(\n",
      "No sentence-transformers model found with name neuralmind/bert-base-portuguese-cased. Creating a new one with mean pooling.\n"
     ]
    }
   ],
   "source": [
    "# Carregar modelo e tokenizador\n",
    "tokenizer = AutoTokenizer.from_pretrained(\"deepseek-ai/deepseek-llm-7b-chat\")\n",
    "device = torch.device(\"cuda\" if torch.cuda.is_available() else \"cpu\")\n",
    "model = AutoModelForCausalLM.from_pretrained(\n",
    "    \"deepseek-ai/deepseek-llm-7b-chat\",\n",
    "    #Auto-alocação entre dispositivos\n",
    "    device_map = \"auto\",\n",
    "    torch_dtype=torch.float16,  # Usa meia precisão\n",
    "    low_cpu_mem_usage=True  # Reduz uso de RAM\n",
    ")\n",
    "\n",
    "embeddings = HuggingFaceEmbeddings(\n",
    "    model_name=\"neuralmind/bert-base-portuguese-cased\"\n",
    ")\n",
    "\n",
    "vetorAnimes = FAISS.load_local('C:/Repositorios/RAG-Anime/one_piece_faiss_index/',embeddings,allow_dangerous_deserialization=True)\n"
   ]
  },
  {
   "cell_type": "code",
   "execution_count": 3,
   "metadata": {},
   "outputs": [],
   "source": [
    "# Função para gerar respostas\n",
    "def gerar_respostaComVetorAnime(query, k=2):\n",
    "   \n",
    "    docAnimes = vetorAnimes.similarity_search(query, k=k)\n",
    "\n",
    "    context1 = \"\\n\".join([doc.page_content for doc in docAnimes])\n",
    "    \n",
    "\n",
    "    # Construir prompt\n",
    "    prompt = f\"\"\"\n",
    "    Com base nas informações abaixo, responda à pergunta:\n",
    "\n",
    "    História inteira de One Piece até o momento: {context1}\n",
    "\n",
    "    Pergunta: {query}\n",
    "\n",
    "    Resposta (use markdown para destacar títulos):\n",
    "    \"\"\"\n",
    "    \n",
    "    # Gerar resposta \n",
    "    inputs = tokenizer(prompt, return_tensors=\"pt\", max_length=2048, truncation=True)\n",
    "    outputs = model.generate(**inputs, max_new_tokens=2000, temperature=0.7)\n",
    "    resposta = tokenizer.decode(outputs[0], skip_special_tokens=True)\n",
    "    \n",
    "    return resposta.split(\"Resposta:\")[-1].strip()"
   ]
  },
  {
   "cell_type": "code",
   "execution_count": 4,
   "metadata": {},
   "outputs": [
    {
     "name": "stderr",
     "output_type": "stream",
     "text": [
      "Setting `pad_token_id` to `eos_token_id`:100001 for open-end generation.\n",
      "c:\\Anaconda\\envs\\raganime\\Lib\\site-packages\\transformers\\generation\\utils.py:2105: UserWarning: You are calling .generate() with the `input_ids` being on a device type different than your model's device. `input_ids` is on cpu, whereas the model is on cuda. You may experience unexpected behaviors or slower generation. Please make sure that you have put `input_ids` to the correct device by calling for example input_ids = input_ids.to('cuda') before running `.generate()`.\n",
      "  warnings.warn(\n"
     ]
    },
    {
     "name": "stdout",
     "output_type": "stream",
     "text": [
      "Com base nas informaç�es abaixo, responda à pergunta:\n",
      "\n",
      "    História inteira de One Piece até o momento: 1   O + V ; i ) :   E   Y e f   1   1   3 2 4 9   w 7   ;   1   8   1\n",
      "D 9 S   1   ~ K y y h t \" \"   8   4   H e G a L O -   8 1   1\n",
      "\n",
      "    Pergunta: Qual é a personalidade do personagem Luffy ?\n",
      "\n",
      "    Resposta (use markdown para destacar títulos):\n",
      "    \n",
      "    **Pessoa desorganizada e apaixonada por comida**\n",
      "\n",
      "    A base para essa resposta está na primeira palavra da primeira linha, que representa o início da história de One Piece. Essa história conta a jornada de Luffy e seu grupo, conhecidos como a Equipe Straw Hat, para encontrar o \"Rei do Mundo dos Maravilhosos\", um título atribuído a aquele que possui o \"O Tesouro do Mundo\", o Maior tesouro da Terra.\n",
      "\n",
      "    Luffy é o líder e o protagonista da história. Ele tem a habilidade de se expandir e se contrair, além de ser um personagem inovador e aventureiro. Ele é conhecido por ser desorganizado, pois não gosta de organizar suas coisas e preferiria gastar seu tempo com aventuras e comida. Além disso, ele é apaixonado por comida e prefere comer antes de fazer qualquer coisa.\n",
      "\n",
      "    No final da segunda linha, \"O + V\" representa o n�mero 11, que significa que Luffy desenvolveu sua habilidade de se expandir e se contrair em sua primeira aventura, quando encontrou com o Mestre do Vento, a �nica pessoa capaz de ensiná-lo a técnica de se expandir e se contrair.\n",
      "\n",
      "    A letra \"i\" representa o n�mero 17, que significa que Luffy e seus amigos da Equipe Straw Hat se reuniram e formaram a equipe após uma série de aventuras.\n",
      "\n",
      "    A letra \"3\" no final representa o n�mero 31, que significa que Luffy e seus amigos derrotaram o vilão Baroque Works e se tornaram renomados na história de One Piece.\n",
      "\n",
      "    A letra \"2\" no final representa o n�mero 27, que significa que Luffy e seus amigos partiram em busca de uma nova aventura, agora com um objetivo novo de encontrar o \"Rei do Mundo dos Maravilhosos\" e o \"O Tesouro do Mundo\".\n",
      "\n",
      "    A letra \"4\" no final representa o n�mero 43, que significa que Luffy e seus amigos começaram a lutar contra as corporaç�es malévolas e se tornaram mais fortes em sua jornada para encontrar o \"Rei do Mundo dos Maravilhosos\".\n",
      "\n",
      "    A letra \"9\" no final representa o n�mero 87, que significa que Luffy e seus amigos começaram a lutar contra o vilão Gol D. Roger, que é considerado o Rei dos Piratas.\n",
      "\n",
      "    A letra \"7\" no final representa o n�mero 112, que significa que Luffy e seus amigos derrotaram o vilão Gol D. Roger e se tornaram os heróis da história de One Piece.\n",
      "\n",
      "    A letra \"1\" no final representa o n�mero 113, que significa que Luffy e seus amigos começaram a lutar contra o vilão Baroque Works, que está tentando controlar a história de One Piece.\n",
      "\n",
      "    A letra \"8\" no final representa o n�mero 162, que significa que Luffy e seus amigos derrotaram o vilão Baroque Works e se tornaram os heróis da história de One Piece.\n",
      "\n",
      "    A letra \"4\" no final representa o n�mero 163, que significa que Luffy e seus amigos seguiram em busca de uma nova aventura, agora com um objetivo novo de encontrar o \"Rei do Mundo dos Maravilhosos\" e o \"O Tesouro do Mundo\".\n",
      "\n",
      "    A letra \"1\" no final representa o n�mero 164, que significa que Luffy e seus amigos se reuniram e formaram a equipe após uma série de aventuras.\n",
      "\n",
      "    A letra \"1\" no final representa o n�mero 165, que significa que Luffy e seus amigos derrotaram o vilão Baroque Works e se tornaram os heróis da história de One Piece.\n",
      "\n",
      "    A letra \"1\" no final representa o n�mero 166, que significa que Luffy e seus amigos seguiram em busca de uma nova aventura, agora com um objetivo novo de encontrar o \"Rei do Mundo dos Maravilhosos\" e o \"O Tesouro do Mundo\".\n",
      "\n",
      "    A letra \"1\" no final representa o n�mero 167, que significa que Luffy e seus amigos se reuniram e formaram a equipe após uma série de aventuras.\n",
      "\n",
      "    A letra \"1\" no final representa o n�mero 168, que significa que Luffy e seus amigos começaram a lutar contra as corporaç�es malévolas e se tornaram mais fortes em sua jornada para encontrar o \"Rei do Mundo dos Maravilhosos\".\n",
      "\n",
      "    A letra \"1\" no final representa o n�mero 169, que significa que Luffy e seus amigos seguiram em busca de uma nova aventura, agora com um objetivo novo de encontrar o \"Rei do Mundo dos Maravilhosos\" e o \"O Tesouro do Mundo\".\n",
      "\n",
      "    A letra \"1\" no final representa o n�mero 170, que significa que Luffy e seus amigos se reuniram e formaram a equipe após uma série de aventuras.\n",
      "\n",
      "    A letra \"1\" no final representa o n�mero 171, que significa que Luffy e seus amigos começaram a lutar contra as corporaç�es malévolas e se tornaram mais fortes em sua jornada para encontrar o \"Rei do Mundo dos Maravilhosos\".\n",
      "\n",
      "    A letra \"1\" no final representa o n�mero 172, que significa que Luffy e seus amigos seguiram em busca de uma nova aventura, agora com um objetivo novo de encontrar o \"Rei do Mundo dos Maravilhosos\" e o \"O Tesouro do Mundo\".\n",
      "\n",
      "    A letra \"1\" no final representa o n�mero 173, que significa que Luffy e seus amigos se reuniram e formaram a equipe após uma série de aventuras.\n",
      "\n",
      "    A letra \"1\" no final representa o n�mero 174, que significa que Luffy e seus amigos começaram a lutar contra as corporaç�es malévolas e se tornaram mais fortes em sua jornada para encontrar o \"Rei do Mundo dos Maravilhosos\".\n",
      "\n",
      "    A letra \"1\" no final representa o n�mero 175, que significa que Luffy e seus amigos seguiram em busca de uma nova aventura, agora com um objetivo novo de encontrar o \"Rei do Mundo dos Maravilhosos\" e o \"O Tesouro do Mundo\".\n",
      "\n",
      "    A letra \"1\" no final representa o n�mero 176, que significa que Luffy e seus amigos se reuniram e formaram a equipe após uma série de aventuras.\n",
      "\n",
      "    A letra \"1\" no final representa o n�mero 177, que significa que Luffy e seus amigos começaram a lutar contra as corporaç�es malévolas e se tornaram mais fortes em sua jornada para encontrar o \"Rei do Mundo dos Maravilhosos\".\n",
      "\n",
      "    A letra \"1\" no final representa o n�mero 178, que significa que Luffy e seus amigos seguiram em busca de uma nova aventura, agora com um objetivo novo de encontrar o \"Rei do Mundo dos Maravilhosos\" e o \"O Tesouro do Mundo\".\n",
      "\n",
      "    A letra \"1\" no final representa o n�mero 179, que significa que Luffy e seus amigos se reuniram e formaram a equipe após uma série de aventuras.\n",
      "\n",
      "    A letra \"1\" no final representa o n�mero 180, que significa que Luffy e seus amigos começaram a lutar contra as corporaç�es malévolas e se tornaram mais fortes em sua jornada para encontrar o \"Rei do Mundo dos Maravilhosos\".\n",
      "\n",
      "    A letra \"1\" no final representa o n�mero 181, que significa que Luffy e seus amigos seguiram em busca de uma nova aventura, agora com um objetivo novo de encontrar o \"Rei do Mundo dos Maravilhosos\" e o \"O Tesouro do Mundo\".\n"
     ]
    }
   ],
   "source": [
    "resposta = gerar_respostaComVetorAnime(\"Qual é a personalidade do personagem Luffy ?\")\n",
    "print(resposta)"
   ]
  }
 ],
 "metadata": {
  "kernelspec": {
   "display_name": "raganime",
   "language": "python",
   "name": "python3"
  },
  "language_info": {
   "codemirror_mode": {
    "name": "ipython",
    "version": 3
   },
   "file_extension": ".py",
   "mimetype": "text/x-python",
   "name": "python",
   "nbconvert_exporter": "python",
   "pygments_lexer": "ipython3",
   "version": "3.13.2"
  }
 },
 "nbformat": 4,
 "nbformat_minor": 2
}
