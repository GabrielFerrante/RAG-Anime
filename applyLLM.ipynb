{
 "cells": [
  {
   "cell_type": "code",
   "execution_count": 1,
   "metadata": {},
   "outputs": [
    {
     "name": "stderr",
     "output_type": "stream",
     "text": [
      "c:\\Anaconda\\envs\\raganime\\Lib\\site-packages\\tqdm\\auto.py:21: TqdmWarning: IProgress not found. Please update jupyter and ipywidgets. See https://ipywidgets.readthedocs.io/en/stable/user_install.html\n",
      "  from .autonotebook import tqdm as notebook_tqdm\n",
      "Loading checkpoint shards: 100%|██████████| 2/2 [04:05<00:00, 122.78s/it]\n",
      "Some parameters are on the meta device because they were offloaded to the cpu.\n",
      "C:\\Users\\Gabriel\\AppData\\Local\\Temp\\ipykernel_15412\\3714368902.py:16: LangChainDeprecationWarning: The class `HuggingFaceEmbeddings` was deprecated in LangChain 0.2.2 and will be removed in 1.0. An updated version of the class exists in the :class:`~langchain-huggingface package and should be used instead. To use it run `pip install -U :class:`~langchain-huggingface` and import as `from :class:`~langchain_huggingface import HuggingFaceEmbeddings``.\n",
      "  embeddings = HuggingFaceEmbeddings(\n"
     ]
    }
   ],
   "source": [
    "from transformers import AutoTokenizer, AutoModelForCausalLM\n",
    "from langchain_community.vectorstores import FAISS\n",
    "from langchain_community.embeddings import HuggingFaceEmbeddings\n",
    "import torch\n",
    "\n",
    "device = torch.device(\"cuda\" if torch.cuda.is_available() else \"cpu\")\n",
    "# Carregar modelo e tokenizador\n",
    "tokenizer = AutoTokenizer.from_pretrained(\"deepseek-ai/deepseek-llm-7b-chat\")\n",
    "model = AutoModelForCausalLM.from_pretrained(\n",
    "    \"deepseek-ai/deepseek-llm-7b-chat\",\n",
    "    device_map=\"auto\",  # Auto-alocação entre dispositivos\n",
    "    torch_dtype=torch.float16,  # Usa meia precisão\n",
    "    low_cpu_mem_usage=True  # Reduz uso de RAM\n",
    ")\n",
    "\n",
    "embeddings = HuggingFaceEmbeddings(\n",
    "    model_name=\"sentence-transformers/paraphrase-multilingual-mpnet-base-v2\"\n",
    ")\n",
    "\n",
    "vetorAnimes = FAISS.load_local('C:/Repositorios/RAG-Anime/animes_faiss_index/',embeddings,allow_dangerous_deserialization=True)\n",
    "vetorEpisodios = FAISS.load_local('C:/Repositorios/RAG-Anime/episodios_faiss_index/',embeddings,allow_dangerous_deserialization=True)\n",
    "vetorPersonagens = FAISS.load_local('C:/Repositorios/RAG-Anime/personagens_faiss_index/',embeddings,allow_dangerous_deserialization=True)\n"
   ]
  },
  {
   "cell_type": "code",
   "execution_count": 2,
   "metadata": {},
   "outputs": [],
   "source": [
    "# Função para gerar respostas\n",
    "def gerar_respostaComVetorAnime(query, k=2):\n",
    "   \n",
    "    docAnimes = vetorAnimes.similarity_search(query, k=k)\n",
    "\n",
    "    context1 = \"\\n\".join([doc.page_content for doc in docAnimes])\n",
    "    \n",
    "\n",
    "    # Construir prompt\n",
    "    prompt = f\"\"\"\n",
    "    Com base nas informações abaixo, responda à pergunta:\n",
    "\n",
    "    Contextos:\n",
    "    Contexto geral de animes: {context1}\n",
    "\n",
    "    Pergunta: {query}\n",
    "\n",
    "    Resposta (use markdown para destacar títulos):\n",
    "    \"\"\"\n",
    "    \n",
    "    # Gerar resposta \n",
    "    inputs = tokenizer(prompt, return_tensors=\"pt\", max_length=2048, truncation=True)\n",
    "    outputs = model.generate(**inputs, max_new_tokens=2000, temperature=0.7)\n",
    "    resposta = tokenizer.decode(outputs[0], skip_special_tokens=True)\n",
    "    \n",
    "    return resposta.split(\"Resposta:\")[-1].strip()"
   ]
  },
  {
   "cell_type": "code",
   "execution_count": 5,
   "metadata": {},
   "outputs": [
    {
     "name": "stderr",
     "output_type": "stream",
     "text": [
      "Setting `pad_token_id` to `eos_token_id`:100001 for open-end generation.\n",
      "c:\\Anaconda\\envs\\raganime\\Lib\\site-packages\\transformers\\generation\\utils.py:2105: UserWarning: You are calling .generate() with the `input_ids` being on a device type different than your model's device. `input_ids` is on cpu, whereas the model is on cuda. You may experience unexpected behaviors or slower generation. Please make sure that you have put `input_ids` to the correct device by calling for example input_ids = input_ids.to('cuda') before running `.generate()`.\n",
      "  warnings.warn(\n"
     ]
    },
    {
     "name": "stdout",
     "output_type": "stream",
     "text": [
      "Kobato é um anime japonês de fantasia e comédia romântica, produzido pela Studio Deen e exibido originalmente na TV Tokyo entre 2009 e 2010. O anime é baseado na obra literária \"Kobato-chan no Ippai Mannequin\" (Kobato-chan no Ippai Mannequin) escrita por Yūji Yomogida e ilustrada por Nozomi Tazawa.\n",
      "\n",
      "    A história segue o enredo de Kobato, uma menina de apenas nove anos que tem um sonho de encontrar o amor perfeito e tornar-se uma \"Mãe do Universo\". E\n"
     ]
    }
   ],
   "source": [
    "resposta = gerar_respostaComVetorAnime(\"kobato\")\n",
    "print(resposta)"
   ]
  },
  {
   "cell_type": "code",
   "execution_count": 3,
   "metadata": {},
   "outputs": [],
   "source": [
    "# Função para gerar respostas\n",
    "def gerar_respostaComVetorPersonagens(query, k=2):\n",
    "   \n",
    "    docPersonagens = vetorPersonagens.similarity_search(query, k=k)\n",
    "\n",
    "    context1 = \"\\n\".join([doc.page_content for doc in docPersonagens])\n",
    "    \n",
    "\n",
    "    # Construir prompt\n",
    "    prompt = f\"\"\"\n",
    "    Com base nas informações abaixo, responda à pergunta:\n",
    "\n",
    "    Contextos:\n",
    "    Contexto geral de personagens: {context1}\n",
    "\n",
    "    Pergunta: {query}\n",
    "\n",
    "    Resposta (use markdown para destacar títulos):\n",
    "    \"\"\"\n",
    "    \n",
    "    # Gerar resposta \n",
    "    inputs = tokenizer(prompt, return_tensors=\"pt\", max_length=2048, truncation=True)\n",
    "    outputs = model.generate(**inputs, max_new_tokens=2000, temperature=0.7)\n",
    "    resposta = tokenizer.decode(outputs[0], skip_special_tokens=True)\n",
    "    \n",
    "    return resposta.split(\"Resposta:\")[-1].strip()"
   ]
  },
  {
   "cell_type": "code",
   "execution_count": 6,
   "metadata": {},
   "outputs": [
    {
     "name": "stderr",
     "output_type": "stream",
     "text": [
      "Setting `pad_token_id` to `eos_token_id`:100001 for open-end generation.\n"
     ]
    },
    {
     "name": "stdout",
     "output_type": "stream",
     "text": [
      "Com base nas informaç�es abaixo, responda à pergunta:\n",
      "\n",
      "    Contextos:\n",
      "    Contexto geral de personagens: (Source: Kotonoha)\n",
      "As Kobato carries out her mission alongside her stuffed toy companion, Ioryogi, she encounters various people troubled by their different situations. From a child struggling with his parents, a high school girl troubled about romance, and everything in between, Kobato's naturally sweet smile and outgoing personality are ready to brighten their day!\n",
      "\n",
      "[Written by MAL Rewrite]\n",
      "\n",
      "    Pergunta: Personagens de Kobato\n",
      "\n",
      "    Resposta (use markdown para destacar títulos):\n",
      "    \n",
      "    **Personagens Principais**:\n",
      "    - Kobato\n",
      "    - Ioryogi\n",
      "\n",
      "    **Personagens Secundários**:\n",
      "    - Hikarizaka\n",
      "    - Shinobu\n",
      "    - Saya\n",
      "    - Otohiko\n",
      "    - Sanae\n",
      "    - Tatsuya\n",
      "    - Kotonoha\n",
      "    - Koutarou\n",
      "    - Koutarou's Parents\n",
      "\n",
      "    **Outros Personagens**:\n",
      "    - Chizuru\n",
      "    - Aoi\n",
      "    - Tetsu\n",
      "    - Kiyoko\n",
      "    - Yuzu\n",
      "\n",
      "    **Personagens Animais**:\n",
      "    - Ioryogi (Sorrida)\n",
      "    - Hina (Sorrida)\n",
      "    - Kana (Sorrida)\n",
      "\n",
      "    **Personagens Crianças**:\n",
      "    - Koutarou\n",
      "    - Sanae\n"
     ]
    }
   ],
   "source": [
    "resposta = gerar_respostaComVetorPersonagens(\"Personagens de Kobato\")\n",
    "print(resposta)"
   ]
  },
  {
   "cell_type": "code",
   "execution_count": 7,
   "metadata": {},
   "outputs": [],
   "source": [
    "# Função para gerar respostas\n",
    "def gerar_respostaComVetorEpisodios(query, k=2):\n",
    "   \n",
    "    docEpis = vetorEpisodios.similarity_search(query, k=k)\n",
    "\n",
    "    context1 = \"\\n\".join([doc.page_content for doc in docEpis])\n",
    "    \n",
    "\n",
    "    # Construir prompt\n",
    "    prompt = f\"\"\"\n",
    "    Com base nas informações abaixo, responda à pergunta:\n",
    "\n",
    "    Contextos:\n",
    "    Contexto geral de episódios: {context1}\n",
    "\n",
    "    Pergunta: {query}\n",
    "\n",
    "    Resposta (use markdown para destacar títulos):\n",
    "    \"\"\"\n",
    "    \n",
    "    # Gerar resposta \n",
    "    inputs = tokenizer(prompt, return_tensors=\"pt\", max_length=2048, truncation=True)\n",
    "    outputs = model.generate(**inputs, max_new_tokens=2000, temperature=0.7)\n",
    "    resposta = tokenizer.decode(outputs[0], skip_special_tokens=True)\n",
    "    \n",
    "    return resposta.split(\"Resposta:\")[-1].strip()"
   ]
  },
  {
   "cell_type": "code",
   "execution_count": 8,
   "metadata": {},
   "outputs": [
    {
     "name": "stderr",
     "output_type": "stream",
     "text": [
      "Setting `pad_token_id` to `eos_token_id`:100001 for open-end generation.\n"
     ]
    },
    {
     "name": "stdout",
     "output_type": "stream",
     "text": [
      "Kobato é uma personagem de anime e mangá japonesa que aparece no jogo \"Love Live! School Idol Festival\". Ela é uma estudante do ensino médio e também é uma mangáka.\n"
     ]
    }
   ],
   "source": [
    "resposta = gerar_respostaComVetorEpisodios(\"Kobato\")\n",
    "print(resposta)"
   ]
  }
 ],
 "metadata": {
  "kernelspec": {
   "display_name": "raganime",
   "language": "python",
   "name": "python3"
  },
  "language_info": {
   "codemirror_mode": {
    "name": "ipython",
    "version": 3
   },
   "file_extension": ".py",
   "mimetype": "text/x-python",
   "name": "python",
   "nbconvert_exporter": "python",
   "pygments_lexer": "ipython3",
   "version": "3.13.2"
  }
 },
 "nbformat": 4,
 "nbformat_minor": 2
}
